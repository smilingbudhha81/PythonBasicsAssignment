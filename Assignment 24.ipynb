{
 "cells": [
  {
   "cell_type": "markdown",
   "metadata": {},
   "source": [
    "# Assignment 24"
   ]
  },
  {
   "cell_type": "markdown",
   "metadata": {},
   "source": [
    "# 1. What is the relationship between def statements and lambda expressions ?\n",
    "\n",
    "\n",
    "ANS = \n",
    "\n",
    "def statement is used to create a normal function. where as lamba expressions are used to create Anonymous functions. which can be assigned to a variable and can be called using the variable later in function.\n",
    "\n",
    "Lambda's body is a single expression and not a block of statements like def statement. The lambda expression's body is similar to what we'd put in a def body's return statement. We simply type the result as an expression instead of explicitly returning it. Because it is limited to an expression, a lambda is less general than a def statement."
   ]
  },
  {
   "cell_type": "markdown",
   "metadata": {},
   "source": [
    "# 2. What is the benefit of lambda?\n",
    "\n",
    "ANS = \n",
    "\n",
    "Fewer Lines of Code\n",
    "Lambda functions are inline functions and thus execute comparatively faster\n",
    "Many times lambda functions make code much more readable by avoiding the logical jumps caused by function calls"
   ]
  },
  {
   "cell_type": "markdown",
   "metadata": {},
   "source": [
    "# 3. Compare and contrast map, filter, and reduce.\n",
    "\n",
    "ANS = \n",
    "\n",
    " The differences between map, filter and reduce are:\n",
    "\n",
    "1.map(): The map() function is a type of higher-order. This function takes another function as a parameter\n",
    "along with a sequence of iterables and returns an output after applying the function to each iterable present in the sequence.\n",
    "\n",
    "2.filter(): The filter() function is used to create an output list consisting of values for which the function returns true.\n",
    "\n",
    "3.reduce(): The reduce() function, as the name describes, applies a given function to the iterables and returns a single value\n",
    "\n",
    "\n",
    "map applies as a transformation to an element.\n",
    "The map() function iterates through all items in the given iterable and executes the function we \n",
    "passed as an argument on each of them.\n",
    "Syntax : map(function, iterable(s))\n",
    "\n",
    "\n",
    "filter accumulates only elements matching a condition.\n",
    "filter() forms a new list that contains only elements that satisfy a certain condition, i.e. the function we \n",
    "passed returns True\n",
    "Syntax : filter(function, iterable(s))\n",
    "\n",
    "\n",
    "reduce accumulates all elements to a single value, by using immutable values\n",
    "reduce() works by calling the function we passed for the first two items in the sequence. The result returned by \n",
    "the function is used in another call to function alongside with the next (third in this case), element\n",
    "Syntax : reduce(function, sequence[, initial])"
   ]
  },
  {
   "cell_type": "markdown",
   "metadata": {},
   "source": [
    "# 4. What are function annotations, and how are they used?\n",
    "\n",
    "ANS = \n",
    "\n",
    " Function annotations provide a way of associating various parts of a function with arbitrary pythoncexpressions at compile time.\n",
    "Annotations of simple parameters def func(x: expression, y: expression = 20):\n",
    "Whereas the annotations for excess parameters are as − def func (**args: expression, **kwargs: expression):"
   ]
  },
  {
   "cell_type": "markdown",
   "metadata": {},
   "source": [
    "# 5. What are recursive functions, and how are they used?\n",
    "\n",
    "ANS = \n",
    "\n",
    "Ans: A recursive function is a function that calls itself during its execution. The process may repeat several times, outputting the result and the end of each iteration.\n",
    "\n"
   ]
  },
  {
   "cell_type": "markdown",
   "metadata": {},
   "source": [
    "# 6. What are some general design guidelines for coding functions?\n",
    "\n",
    "ANS = \n",
    "\n",
    " Some of the general design guidelines for coding functions are:\n",
    "\n",
    "Always use a docstring to explain the functionality of the function\n",
    "avoid using or limited use of global variables\n",
    "Proper Identation to increase the code readability\n",
    "try to follow a naming convention for function names (pascalCase or camelCase) and stick with the same convention throughout the application.\n",
    "Avoid using digits while choosing a variable name\n",
    "try to use a name for the function which conveys the purpose of the function\n",
    "Local variables should be named using camelCase format (ex: localVariable) whereas Global variables names should be using PascalCase (ex:GlobalVariable).\n",
    "Constant should be represented in allcaps (ex:CONSTANT)."
   ]
  },
  {
   "cell_type": "markdown",
   "metadata": {},
   "source": [
    "# 7. Name three or more ways that functions can communicate results to a caller.\n",
    "\n",
    "ANS = \n",
    "Some of the ways in which a function can communicate with the calling function is:\n",
    "\n",
    "print\n",
    "return\n",
    "yield\n"
   ]
  }
 ],
 "metadata": {
  "kernelspec": {
   "display_name": "Python 3",
   "language": "python",
   "name": "python3"
  },
  "language_info": {
   "codemirror_mode": {
    "name": "ipython",
    "version": 3
   },
   "file_extension": ".py",
   "mimetype": "text/x-python",
   "name": "python",
   "nbconvert_exporter": "python",
   "pygments_lexer": "ipython3",
   "version": "3.8.5"
  }
 },
 "nbformat": 4,
 "nbformat_minor": 5
}
